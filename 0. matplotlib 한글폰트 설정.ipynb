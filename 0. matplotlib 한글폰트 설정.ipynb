{
 "cells": [
  {
   "cell_type": "code",
   "execution_count": 1,
   "metadata": {},
   "outputs": [],
   "source": [
    "import matplotlib.pyplot as plt\n",
    "import matplotlib as mpl\n",
    "import matplotlib.font_manager as fm\n",
    "\n",
    "# 그래프에서 마이너스 폰트 깨지는 문제에 대한 대처\n",
    "mpl.rcParams['axes.unicode_minus'] = False"
   ]
  },
  {
   "cell_type": "markdown",
   "metadata": {},
   "source": [
    "### matplotlib의 버전과 위치정보 가져오기"
   ]
  },
  {
   "cell_type": "code",
   "execution_count": 2,
   "metadata": {},
   "outputs": [
    {
     "name": "stdout",
     "output_type": "stream",
     "text": [
      "버전:  2.2.2\n",
      "설치위치:  /Library/Frameworks/Python.framework/Versions/3.5/lib/python3.5/site-packages/matplotlib/__init__.py\n",
      "설정위치:  /Users/imjunghee/.matplotlib\n",
      "캐시위치:  /Users/imjunghee/.matplotlib\n"
     ]
    }
   ],
   "source": [
    "print('버전: ', mpl.__version__)\n",
    "print('설치위치: ', mpl.__file__)\n",
    "print('설정위치: ', mpl.get_configdir())\n",
    "print('캐시위치: ', mpl.get_cachedir())"
   ]
  },
  {
   "cell_type": "markdown",
   "metadata": {},
   "source": [
    "### 터미널을 이용해 해당 위치 가기"
   ]
  },
  {
   "cell_type": "code",
   "execution_count": 3,
   "metadata": {},
   "outputs": [
    {
     "name": "stdout",
     "output_type": "stream",
     "text": [
      "설정파일 위치:  /Library/Frameworks/Python.framework/Versions/3.5/lib/python3.5/site-packages/matplotlib/mpl-data/matplotlibrc\n"
     ]
    }
   ],
   "source": [
    "print(\"설정파일 위치: \", mpl.matplotlib_fname())"
   ]
  },
  {
   "cell_type": "markdown",
   "metadata": {},
   "source": [
    "### 설치된 폰트 출력"
   ]
  },
  {
   "cell_type": "code",
   "execution_count": 4,
   "metadata": {},
   "outputs": [
    {
     "name": "stdout",
     "output_type": "stream",
     "text": [
      "286\n"
     ]
    }
   ],
   "source": [
    "font_list = fm.findSystemFonts(fontpaths=None, fontext='ttf')\n",
    "\n",
    "print(len(font_list))"
   ]
  },
  {
   "cell_type": "code",
   "execution_count": 5,
   "metadata": {},
   "outputs": [
    {
     "name": "stdout",
     "output_type": "stream",
     "text": [
      "286\n"
     ]
    }
   ],
   "source": [
    "# OSX에 설치된 폰트를 가져오는 함수\n",
    "font_list_mac = fm.OSXInstalledFonts()\n",
    "print(len(font_list_mac))"
   ]
  },
  {
   "cell_type": "code",
   "execution_count": 7,
   "metadata": {},
   "outputs": [
    {
     "data": {
      "text/plain": [
       "['/System/Library/Fonts/SFCompactText-Bold.otf',\n",
       " '/Library/Fonts/NanumGothic.otf',\n",
       " '/Library/Fonts/Microsoft/Meiryo Bold.ttf',\n",
       " '/Library/Fonts/Microsoft/Tw Cen MT Bold Italic.ttf',\n",
       " '/Library/Fonts/Verdana Italic.ttf',\n",
       " '/Library/Fonts/STIXNonUni.otf',\n",
       " '/System/Library/Fonts/SFCompactDisplay-Regular.otf',\n",
       " '/System/Library/Fonts/SFCompactText-SemiboldItalic.otf',\n",
       " '/Library/Fonts/STIXSizTwoSymBol.otf',\n",
       " '/Library/Fonts/Microsoft/Constantia Bold.ttf']"
      ]
     },
     "execution_count": 7,
     "metadata": {},
     "output_type": "execute_result"
    }
   ],
   "source": [
    "# 상위 10개만 출력\n",
    "font_list[:10]  # 위치(path) 출력"
   ]
  },
  {
   "cell_type": "code",
   "execution_count": 11,
   "metadata": {},
   "outputs": [
    {
     "name": "stdout",
     "output_type": "stream",
     "text": [
      "302\n"
     ]
    },
    {
     "data": {
      "text/plain": [
       "['DejaVu Sans',\n",
       " 'STIXSizeOneSym',\n",
       " 'DejaVu Sans Mono',\n",
       " 'DejaVu Serif',\n",
       " 'cmtt10',\n",
       " 'cmss10',\n",
       " 'STIXSizeFiveSym',\n",
       " 'DejaVu Sans',\n",
       " 'DejaVu Sans Display',\n",
       " 'STIXGeneral']"
      ]
     },
     "execution_count": 11,
     "metadata": {},
     "output_type": "execute_result"
    }
   ],
   "source": [
    "f = [f.name for f in fm.fontManager.ttflist]  # Note: FontManager not working, ttf 폰트 이름 출력\n",
    "print(len(f))\n",
    "f[:10]"
   ]
  },
  {
   "cell_type": "code",
   "execution_count": 13,
   "metadata": {},
   "outputs": [
    {
     "data": {
      "text/plain": [
       "['DejaVu Sans',\n",
       " 'STIXSizeOneSym',\n",
       " 'DejaVu Sans Mono',\n",
       " 'DejaVu Serif',\n",
       " 'cmtt10',\n",
       " 'cmss10',\n",
       " 'STIXSizeFiveSym',\n",
       " 'DejaVu Sans',\n",
       " 'DejaVu Sans Display',\n",
       " 'STIXGeneral',\n",
       " 'STIXSizeFourSym',\n",
       " 'STIXSizeTwoSym',\n",
       " 'STIXNonUnicode',\n",
       " 'DejaVu Sans',\n",
       " 'STIXGeneral',\n",
       " 'STIXSizeTwoSym',\n",
       " 'DejaVu Sans Mono',\n",
       " 'cmsy10',\n",
       " 'STIXSizeThreeSym',\n",
       " 'STIXNonUnicode',\n",
       " 'STIXGeneral',\n",
       " 'STIXGeneral',\n",
       " 'cmb10',\n",
       " 'DejaVu Sans',\n",
       " 'cmmi10',\n",
       " 'DejaVu Serif',\n",
       " 'STIXSizeFourSym',\n",
       " 'DejaVu Sans Mono',\n",
       " 'DejaVu Serif',\n",
       " 'DejaVu Sans Mono',\n",
       " 'STIXSizeThreeSym',\n",
       " 'cmex10',\n",
       " 'STIXNonUnicode',\n",
       " 'STIXSizeOneSym',\n",
       " 'DejaVu Serif',\n",
       " 'cmr10',\n",
       " 'STIXNonUnicode',\n",
       " 'DejaVu Serif Display',\n",
       " 'Arial',\n",
       " 'Chalkduster',\n",
       " 'MS Reference Specialty',\n",
       " 'SimHei',\n",
       " 'Perpetua',\n",
       " 'Constantia',\n",
       " 'Verdana',\n",
       " 'DIN Condensed',\n",
       " 'Mishafi',\n",
       " 'Arial Narrow',\n",
       " 'STIXGeneral',\n",
       " 'System Font',\n",
       " 'STIXIntegralsUp',\n",
       " 'Cambria',\n",
       " 'System Font',\n",
       " 'System Font',\n",
       " 'Batang',\n",
       " 'Verdana',\n",
       " 'STIXSizeFourSym',\n",
       " 'System Font',\n",
       " 'Georgia',\n",
       " 'Courier New',\n",
       " 'Franklin Gothic Medium',\n",
       " 'PMingLiU',\n",
       " 'Meiryo',\n",
       " 'System Font',\n",
       " 'Trebuchet MS',\n",
       " 'STIXSizeTwoSym',\n",
       " 'Bradley Hand',\n",
       " 'NanumGothicOTF',\n",
       " 'PCMyungjo',\n",
       " 'Sathu',\n",
       " 'System Font',\n",
       " 'MS Gothic',\n",
       " 'PilGi',\n",
       " 'STHeiti',\n",
       " 'Brush Script MT',\n",
       " 'Palatino Linotype',\n",
       " 'Microsoft Sans Serif',\n",
       " 'System Font',\n",
       " 'System Font',\n",
       " 'Luminari',\n",
       " 'NanumMyeongjoOTF',\n",
       " 'Wawati TC',\n",
       " 'Khmer Sangam MN',\n",
       " 'Microsoft Yi Baiti',\n",
       " 'System Font',\n",
       " 'Gurmukhi MT',\n",
       " 'NanumSquareOTF',\n",
       " 'Kokonor',\n",
       " 'STIXVariants',\n",
       " 'YuGothic',\n",
       " 'Cambria',\n",
       " 'Times New Roman',\n",
       " 'Constantia',\n",
       " 'STIXNonUnicode',\n",
       " 'NanumBarunpen',\n",
       " 'STIXGeneral',\n",
       " 'STIXIntegralsUpSm',\n",
       " 'Gill Sans MT',\n",
       " 'STIXIntegralsUp',\n",
       " 'System Font',\n",
       " 'Courier New',\n",
       " 'Zapf Dingbats',\n",
       " 'Trebuchet MS',\n",
       " 'Arial Narrow',\n",
       " 'Perpetua',\n",
       " '.Keyboard',\n",
       " 'Corbel',\n",
       " 'NanumSquareRoundOTF',\n",
       " 'Nanum Brush Script OTF',\n",
       " 'STFangsong',\n",
       " 'STIXSizeOneSym',\n",
       " 'Arial Black',\n",
       " 'STIXIntegralsUpD',\n",
       " 'Ayuthaya',\n",
       " 'NanumBarunGothicOTF',\n",
       " 'STIXNonUnicode',\n",
       " 'Bodoni Ornaments',\n",
       " 'System Font',\n",
       " 'STIXGeneral',\n",
       " 'Diwan Thuluth',\n",
       " 'NanumSquareOTF',\n",
       " 'AppleGothic',\n",
       " 'System Font',\n",
       " 'Trebuchet MS',\n",
       " 'NanumSquareOTF',\n",
       " 'Consolas',\n",
       " 'Cambria',\n",
       " 'Georgia',\n",
       " 'NanumBarunpen',\n",
       " 'Candara',\n",
       " 'Arial',\n",
       " 'Meiryo',\n",
       " 'MingLiU_HKSCS',\n",
       " 'MS Mincho',\n",
       " 'Microsoft Himalaya',\n",
       " 'YuGothic',\n",
       " 'System Font',\n",
       " 'STIXIntegralsD',\n",
       " 'System Font',\n",
       " 'Apple Braille',\n",
       " 'Nanum Pen Script OTF',\n",
       " 'Osaka',\n",
       " 'Bodoni 72 Smallcaps',\n",
       " 'Hoefler Text',\n",
       " 'Trattatello',\n",
       " 'Arial Narrow',\n",
       " 'Courier New',\n",
       " 'Consolas',\n",
       " 'System Font',\n",
       " 'System Font',\n",
       " 'Lao Sangam MN',\n",
       " 'Webdings',\n",
       " 'STIXSizeOneSym',\n",
       " 'Weibei SC',\n",
       " 'Perpetua',\n",
       " 'Times New Roman',\n",
       " 'Constantia',\n",
       " 'Tahoma',\n",
       " 'Times New Roman',\n",
       " 'Zapfino',\n",
       " 'Tw Cen MT',\n",
       " 'Symbol',\n",
       " 'AppleMyungjo',\n",
       " 'Plantagenet Cherokee',\n",
       " 'Osaka',\n",
       " 'Wingdings 3',\n",
       " 'Comic Sans MS',\n",
       " 'STIXIntegralsUpD',\n",
       " 'MingLiU_HKSCS-ExtB',\n",
       " 'Palatino Linotype',\n",
       " 'System Font',\n",
       " 'LiSong Pro',\n",
       " 'Palatino Linotype',\n",
       " 'Calibri',\n",
       " 'Gulim',\n",
       " 'Arial Unicode MS',\n",
       " 'STIXGeneral',\n",
       " 'Candara',\n",
       " 'Courier New',\n",
       " 'MS Reference Sans Serif',\n",
       " 'Georgia',\n",
       " 'Tw Cen MT',\n",
       " 'LiHei Pro',\n",
       " 'System Font',\n",
       " 'Microsoft Tai Le',\n",
       " 'System Font',\n",
       " 'NanumSquareRoundOTF',\n",
       " 'Wawati SC',\n",
       " 'Verdana',\n",
       " 'NanumMyeongjoOTF',\n",
       " 'Tw Cen MT',\n",
       " 'NanumGothicOTF',\n",
       " 'Cambria Math',\n",
       " 'Georgia',\n",
       " 'Silom',\n",
       " 'Wingdings 2',\n",
       " 'Yuppy TC',\n",
       " 'Apple Braille',\n",
       " 'System Font',\n",
       " 'NanumMyeongjoOTF',\n",
       " 'Wingdings',\n",
       " 'Marlett',\n",
       " 'Trebuchet MS',\n",
       " 'System Font',\n",
       " 'STIXSizeThreeSym',\n",
       " 'STIXSizeFourSym',\n",
       " 'Weibei TC',\n",
       " 'STIXNonUnicode',\n",
       " 'System Font',\n",
       " 'STIXSizeTwoSym',\n",
       " 'Corbel',\n",
       " 'Comic Sans MS',\n",
       " 'Gill Sans MT',\n",
       " 'NanumGothicOTF',\n",
       " 'SimSun-ExtB',\n",
       " 'STIXIntegralsSm',\n",
       " 'DIN Alternate',\n",
       " 'Cambria',\n",
       " 'Impact',\n",
       " 'Farisi',\n",
       " 'NanumGothicOTF',\n",
       " 'Skia',\n",
       " 'Gill Sans MT',\n",
       " 'MS PGothic',\n",
       " 'System Font',\n",
       " 'System Font',\n",
       " 'Apple Braille',\n",
       " 'Arial',\n",
       " 'Lucida Console',\n",
       " 'Times New Roman',\n",
       " 'Consolas',\n",
       " 'Yuppy SC',\n",
       " 'System Font',\n",
       " 'NanumBarunGothicOTF',\n",
       " 'Arial Rounded MT Bold',\n",
       " 'STIXVariants',\n",
       " 'STIXSizeFiveSym',\n",
       " 'Candara',\n",
       " 'Apple Braille',\n",
       " 'NanumSquareOTF',\n",
       " 'Mongolian Baiti',\n",
       " 'MingLiU',\n",
       " 'System Font',\n",
       " 'Consolas',\n",
       " 'Arial Narrow',\n",
       " 'InaiMathi',\n",
       " 'Arial',\n",
       " 'Verdana',\n",
       " 'System Font',\n",
       " 'Corbel',\n",
       " 'STIXIntegralsSm',\n",
       " 'Calibri',\n",
       " 'Calibri',\n",
       " 'Lucida Sans Unicode',\n",
       " 'Andale Mono',\n",
       " 'Calibri',\n",
       " 'Meiryo',\n",
       " 'MS PMincho',\n",
       " 'System Font',\n",
       " 'Bookshelf Symbol 7',\n",
       " 'PMingLiU-ExtB',\n",
       " 'STIXSizeThreeSym',\n",
       " 'System Font',\n",
       " 'Herculanum',\n",
       " '.LastResort',\n",
       " 'Franklin Gothic Medium',\n",
       " 'Tahoma',\n",
       " 'Gill Sans MT',\n",
       " 'Palatino Linotype',\n",
       " 'Constantia',\n",
       " 'System Font',\n",
       " 'System Font',\n",
       " 'Apple Braille',\n",
       " 'System Font',\n",
       " 'Candara',\n",
       " 'Corbel',\n",
       " 'Franklin Gothic Book',\n",
       " 'NanumSquareRoundOTF',\n",
       " 'Big Caslon',\n",
       " 'NanumSquareRoundOTF',\n",
       " 'Tw Cen MT',\n",
       " 'System Font',\n",
       " 'Franklin Gothic Book',\n",
       " 'STIXIntegralsD',\n",
       " 'Mishafi Gold',\n",
       " 'STHeiti',\n",
       " 'SimSun',\n",
       " 'Microsoft Tai Le',\n",
       " 'HeadLineA',\n",
       " 'NanumBarunGothicOTF',\n",
       " 'NanumBarunGothicOTF',\n",
       " 'Meiryo',\n",
       " 'Krungthep',\n",
       " 'Calibri',\n",
       " 'MingLiU-ExtB',\n",
       " 'SignPainter',\n",
       " 'Perpetua',\n",
       " 'STIXIntegralsUpSm',\n",
       " 'Gabriola',\n",
       " 'STIXNonUnicode',\n",
       " 'Apple Chancery',\n",
       " 'GungSeo']"
      ]
     },
     "execution_count": 13,
     "metadata": {},
     "output_type": "execute_result"
    }
   ],
   "source": [
    "[f.name for f in fm.fontManager.ttflist if '' in f.name]  # 폰트 이름에서 '' 붙어 있는 것이면 모두 출력"
   ]
  },
  {
   "cell_type": "markdown",
   "metadata": {},
   "source": [
    "### 나눔고딕을 사용할 경우 이름에 'Nanum'이 들어간 폰트 불러오기"
   ]
  },
  {
   "cell_type": "markdown",
   "metadata": {},
   "source": [
    "+ 폰트를 설치했는데도 원하는 폰트명을 가져오지 못할 경우, 터미널을 열어 mpl.get_cachedir()로 찍히는 캐시위치로 이동해서 캐시파일을 열어본다.\n",
    "+ 캐시파일에 원하는 폰트리스트가 없으면 주피터 노트북 혹은 콘다를 재실행 한다."
   ]
  },
  {
   "cell_type": "code",
   "execution_count": 15,
   "metadata": {},
   "outputs": [
    {
     "data": {
      "text/plain": [
       "[('NanumGothicOTF', '/Library/Fonts/NanumGothic.otf'),\n",
       " ('NanumMyeongjoOTF', '/Library/Fonts/NanumMyeongjoBold.otf'),\n",
       " ('NanumSquareOTF', '/Library/Fonts/NanumSquareOTFLight.otf'),\n",
       " ('NanumBarunpen', '/Library/Fonts/NanumBarunpenBold.otf'),\n",
       " ('NanumSquareRoundOTF', '/Library/Fonts/NanumSquareRoundOTFB.otf'),\n",
       " ('Nanum Brush Script OTF', '/Library/Fonts/NanumBrush.otf'),\n",
       " ('NanumBarunGothicOTF', '/Library/Fonts/NanumBarunGothicBold.otf'),\n",
       " ('NanumSquareOTF', '/Library/Fonts/NanumSquareOTFExtraBold.otf'),\n",
       " ('NanumSquareOTF', '/Library/Fonts/NanumSquareOTFRegular.otf'),\n",
       " ('NanumBarunpen', '/Library/Fonts/NanumBarunpenRegular.otf'),\n",
       " ('Nanum Pen Script OTF', '/Library/Fonts/NanumPen.otf'),\n",
       " ('NanumSquareRoundOTF', '/Library/Fonts/NanumSquareRoundOTFL.otf'),\n",
       " ('NanumMyeongjoOTF', '/Library/Fonts/NanumMyeongjo.otf'),\n",
       " ('NanumGothicOTF', '/Library/Fonts/NanumGothicLight.otf'),\n",
       " ('NanumMyeongjoOTF', '/Library/Fonts/NanumMyeongjoExtraBold.otf'),\n",
       " ('NanumGothicOTF', '/Library/Fonts/NanumGothicExtraBold.otf'),\n",
       " ('NanumGothicOTF', '/Library/Fonts/NanumGothicBold.otf'),\n",
       " ('NanumBarunGothicOTF', '/Library/Fonts/NanumBarunGothicUltraLight.otf'),\n",
       " ('NanumSquareOTF', '/Library/Fonts/NanumSquareOTFBold.otf'),\n",
       " ('NanumSquareRoundOTF', '/Library/Fonts/NanumSquareRoundOTFR.otf'),\n",
       " ('NanumSquareRoundOTF', '/Library/Fonts/NanumSquareRoundOTFEB.otf'),\n",
       " ('NanumBarunGothicOTF', '/Library/Fonts/NanumBarunGothic.otf'),\n",
       " ('NanumBarunGothicOTF', '/Library/Fonts/NanumBarunGothicLight.otf')]"
      ]
     },
     "execution_count": 15,
     "metadata": {},
     "output_type": "execute_result"
    }
   ],
   "source": [
    "[(f.name, f.fname) for f in fm.fontManager.ttflist if 'Nanum' in f.name]  # f.name 중 나눔이 들어간 모든 데이터 출력"
   ]
  },
  {
   "cell_type": "markdown",
   "metadata": {},
   "source": [
    "## 폰트를 사용하는 3가지 방법"
   ]
  },
  {
   "cell_type": "markdown",
   "metadata": {},
   "source": [
    "1) FontProperites를 사용하는 방법 - 그래프의 폰트가 필요한 항목마다 지정해 줌\n",
    "\n",
    "2) matplotlib.rcParams[]으로 전역글꼴 설정 - 그래프에 설정을 해주면 폰트가 필요한 항목에 적용\n",
    "\n",
    "3) 2)번의 방법을 mpl.matplotlib_fname()로 읽어들이는 설정 파일에 직접 적어주는 방법, 단 모든 노트북에 적용됨. 노트북을 열때마다 지정하지 않아도 되어 편리"
   ]
  },
  {
   "cell_type": "markdown",
   "metadata": {},
   "source": [
    "### 1) FontProperties 사용 방법"
   ]
  },
  {
   "cell_type": "markdown",
   "metadata": {},
   "source": [
    "텍스트를 지정하는 항목에 지정해 사용 가능. 지정한 항목에만 해당 폰트 적용\n",
    "\n",
    "+ matplotlib.pyplot\n",
    "\n",
    "    * title()\n",
    "    * xlabel()\n",
    "    * ylabel()\n",
    "    * legend()\n",
    "    * text()\n",
    "\n",
    "+ matplotlib.axies\n",
    "\n",
    "    * set_title()\n",
    "    \n",
    "Note: 그래프 그리는 함수에는 직접 사용하지 못함"
   ]
  },
  {
   "cell_type": "code",
   "execution_count": 19,
   "metadata": {},
   "outputs": [
    {
     "data": {
      "image/png": "[encoded data removed]",
      "text/plain": [
       "<Figure size 432x288 with 1 Axes>"
      ]
     },
     "metadata": {},
     "output_type": "display_data"
    }
   ],
   "source": [
    "import numpy as np\n",
    "import seaborn as sns\n",
    "\n",
    "# fname 옵션을 사용하는 방법\n",
    "path = \"/Library/Fonts/NanumGothic.otf\"\n",
    "fontprop = fm.FontProperties(fname=path, size=15)\n",
    "\n",
    "X, Y = np.meshgrid(np.arange(3), np.arange(5))\n",
    "\n",
    "%matplotlib inline\n",
    "plt.title(\"np.meshgrid로 만든 Grid Points\", fontproperties=fontprop)\n",
    "plt.grid(True)\n",
    "plt.scatter(X, Y, linewidths=10)\n",
    "plt.style.use('seaborn-pastel')\n",
    "plt.show()"
   ]
  },
  {
   "cell_type": "markdown",
   "metadata": {},
   "source": [
    "### 2) matplotlib.rcParams[]로 전역글꼴 설정방법"
   ]
  },
  {
   "cell_type": "code",
   "execution_count": 20,
   "metadata": {},
   "outputs": [
    {
     "name": "stdout",
     "output_type": "stream",
     "text": [
      "#설정되어 있는 폰트 사이즈\n",
      "10.0\n",
      "#설정되어 있는 폰트 글꼴\n",
      "['sans-serif']\n"
     ]
    }
   ],
   "source": [
    "# 기본 설정 읽어 들이기\n",
    "\n",
    "# size, family\n",
    "print(\"#설정되어 있는 폰트 사이즈\")\n",
    "print(plt.rcParams['font.size'])\n",
    "print('#설정되어 있는 폰트 글꼴')\n",
    "print(plt.rcParams['font.family'])"
   ]
  },
  {
   "cell_type": "code",
   "execution_count": 23,
   "metadata": {},
   "outputs": [],
   "source": [
    "# 기본설정 바꾸기\n",
    "plt.rcParams['font.family'] = \"NanumGothicOTF\"\n",
    "plt.rcParams['font.size'] = 12\n",
    "plt.rcParams['figure.figsize'] = (14, 4)"
   ]
  },
  {
   "cell_type": "code",
   "execution_count": 24,
   "metadata": {},
   "outputs": [
    {
     "data": {
      "image/png": "[encoded data removed]",
      "text/plain": [
       "<Figure size 432x288 with 1 Axes>"
      ]
     },
     "metadata": {},
     "output_type": "display_data"
    }
   ],
   "source": [
    "%matplotlib inline\n",
    "\n",
    "plt.title(\"np.meshgrid로 만든 Grid Points\")\n",
    "plt.grid(True)\n",
    "plt.scatter(X, Y, linewidths=10)\n",
    "plt.style.use('seaborn-pastel')\n",
    "plt.show()"
   ]
  },
  {
   "cell_type": "markdown",
   "metadata": {},
   "source": [
    "#### rcParams 대신 FontProperites와 plt.rc를 사용하는 방법"
   ]
  },
  {
   "cell_type": "code",
   "execution_count": 33,
   "metadata": {},
   "outputs": [
    {
     "name": "stdout",
     "output_type": "stream",
     "text": [
      "NanumGothicOTF\n"
     ]
    }
   ],
   "source": [
    "path = \"/Library/Fonts/NanumGothic.otf\"\n",
    "font_name = fm.FontProperties(fname=path, size=12).get_name()\n",
    "\n",
    "print(font_name)\n",
    "plt.rc('font', family=font_name)"
   ]
  },
  {
   "cell_type": "code",
   "execution_count": 34,
   "metadata": {},
   "outputs": [
    {
     "data": {
      "image/png": "[encoded data removed]",
      "text/plain": [
       "<Figure size 432x288 with 1 Axes>"
      ]
     },
     "metadata": {},
     "output_type": "display_data"
    }
   ],
   "source": [
    "plt.title(\"np.meshgrid로 만든 Grid Points\")\n",
    "plt.grid(True)\n",
    "plt.scatter(X, Y, linewidths=10)\n",
    "plt.style.use(\"seaborn-pastel\")\n",
    "plt.show()"
   ]
  },
  {
   "cell_type": "markdown",
   "metadata": {},
   "source": [
    "### 3) rcParams를 설정파일에 직접 적어주는 방법 - 모든 노트북에 공통 적용"
   ]
  },
  {
   "cell_type": "markdown",
   "metadata": {},
   "source": [
    "+ font.family: NanumGothicOTF\n",
    "+ 이외에 자주 사용하는 설정도 함께 해주면 편리함\n",
    "+ 이곳에 폰트를 지정해 주면 노트북을 실행할 때 바로 로드되도록 설정 가능"
   ]
  },
  {
   "cell_type": "code",
   "execution_count": 35,
   "metadata": {},
   "outputs": [
    {
     "name": "stdout",
     "output_type": "stream",
     "text": [
      "설정파일 위치:  /Library/Frameworks/Python.framework/Versions/3.5/lib/python3.5/site-packages/matplotlib/mpl-data/matplotlibrc\n"
     ]
    }
   ],
   "source": [
    "print(\"설정파일 위치: \", mpl.matplotlib_fname())"
   ]
  },
  {
   "cell_type": "code",
   "execution_count": 37,
   "metadata": {},
   "outputs": [
    {
     "data": {
      "image/png": "[encoded data removed]",
      "text/plain": [
       "<Figure size 432x288 with 1 Axes>"
      ]
     },
     "metadata": {},
     "output_type": "display_data"
    }
   ],
   "source": [
    "sns.set_style(\"darkgrid\") # seaborn style 지정시 폰트 깨짐 발생\n",
    "\n",
    "plt.title(\"np.meshgrid로 만든 Grid Points\", fontproperties=fontprop) # 폰트가 깨져서 다시 필요항목별로 설정 필요\n",
    "plt.grid(True)\n",
    "plt.scatter(X, Y, linewidths=10)\n",
    "plt.show()"
   ]
  },
  {
   "cell_type": "code",
   "execution_count": null,
   "metadata": {},
   "outputs": [],
   "source": []
  }
 ],
 "metadata": {
  "kernelspec": {
   "display_name": "Python 3",
   "language": "python",
   "name": "python3"
  },
  "language_info": {
   "codemirror_mode": {
    "name": "ipython",
    "version": 3
   },
   "file_extension": ".py",
   "mimetype": "text/x-python",
   "name": "python",
   "nbconvert_exporter": "python",
   "pygments_lexer": "ipython3",
   "version": "3.5.1"
  }
 },
 "nbformat": 4,
 "nbformat_minor": 2
}
